{
 "cells": [
  {
   "cell_type": "code",
   "execution_count": null,
   "metadata": {},
   "outputs": [],
   "source": []
  },
  {
   "cell_type": "code",
   "execution_count": 33,
   "metadata": {},
   "outputs": [],
   "source": [
    "import akshare as ak\n",
    "import datetime\n",
    "from datetime import timedelta"
   ]
  },
  {
   "cell_type": "code",
   "execution_count": 65,
   "metadata": {},
   "outputs": [],
   "source": [
    "import numpy as np"
   ]
  },
  {
   "cell_type": "code",
   "execution_count": 1,
   "metadata": {},
   "outputs": [],
   "source": [
    "# 沪深300 13%\n",
    "# fund_code = '110020'\n",
    "\n",
    "# 上证50\n",
    "template_fund_code = '110003'\n",
    "\n",
    "# 招商国证生物医药指数\n",
    "fund_code = '161726'"
   ]
  },
  {
   "cell_type": "code",
   "execution_count": 8,
   "metadata": {},
   "outputs": [],
   "source": [
    "def find_fund_info(fund_info):\n",
    "    return ak.fund_em_open_fund_info(fund_code)"
   ]
  },
  {
   "cell_type": "code",
   "execution_count": 9,
   "metadata": {},
   "outputs": [],
   "source": [
    "template_fund_info = find_fund_info(template_fund_code)"
   ]
  },
  {
   "cell_type": "code",
   "execution_count": 10,
   "metadata": {},
   "outputs": [],
   "source": [
    "fund_info = find_fund_info(fund_code, )"
   ]
  },
  {
   "cell_type": "code",
   "execution_count": 11,
   "metadata": {},
   "outputs": [],
   "source": [
    "weekday2label = {\n",
    "    '周一':0,\n",
    "    '周二':1,\n",
    "    '周三':2,\n",
    "    '周四':3,\n",
    "    '周五':4,\n",
    "    '周六':5,\n",
    "    '周日':6,\n",
    "    \n",
    "}\n",
    "label2weekday = {day:label for label, day in weekday2label.items()}\n",
    "_add_moeny = 4"
   ]
  },
  {
   "cell_type": "code",
   "execution_count": 12,
   "metadata": {},
   "outputs": [],
   "source": [
    "def filter_weekday():\n",
    "    start_day = datetime.date(2010, 1, 1)\n",
    "    num_day = 1\n",
    "#     end_day = datetime.date(2020, 1, 1)\n",
    "    end_day = datetime.datetime.now()\n",
    "    while start_day.__le__(end_day):\n",
    "        start_day += datetime.timedelta(1)\n",
    "        yield start_day, start_day.weekday()"
   ]
  },
  {
   "cell_type": "code",
   "execution_count": 86,
   "metadata": {},
   "outputs": [],
   "source": [
    "def find_template_fund_signal(template_fund_info, from_day, day_span=180):\n",
    "    template_fund_span = template_fund_info[(template_fund_info.x <= from_day)][:day_span]\n",
    "    \n",
    "    mean_y = np.mean(template_fund_span.y.values)\n",
    "    current_y = template_fund_info[(template_fund_info.x == from_day)].y.values[0]\n",
    "    \n",
    "    ratio = (current_y - mean_y) / mean_y * 100\n",
    "    \n",
    "    money_ratio  = 1\n",
    "    flag = 1\n",
    "    if ratio > 0:\n",
    "        \n",
    "        if ratio >= 0 and ratio < 15:\n",
    "            money_ratio = 0.7\n",
    "        elif ratio >= 15 and ratio < 50:\n",
    "            money_ratio = 0.4\n",
    "        elif ratio >= 50 and ratio < 100:\n",
    "            money_ratio = 0.1\n",
    "        elif ratio >= 100:\n",
    "            money_ratio = 0\n",
    "    else:\n",
    "        flag = -1\n",
    "        ratio = -ratio\n",
    "        if ratio >= 0 and ratio < 5:\n",
    "            money_ratio = 1.3\n",
    "        elif ratio >= 5 and ratio < 10:\n",
    "            money_ratio = 1.6\n",
    "        elif ratio >= 10 and ratio < 20:\n",
    "            money_ratio = 1.9\n",
    "        elif ratio >= 20 and ratio < 30:\n",
    "            money_ratio = 2.2\n",
    "        elif ratio >= 30 and ratio < 40:\n",
    "            money_ratio = 2.5\n",
    "        else:\n",
    "            money_ratio = 2.8\n",
    "        \n",
    "    return money_ratio, ratio*flag"
   ]
  },
  {
   "cell_type": "code",
   "execution_count": 98,
   "metadata": {},
   "outputs": [],
   "source": [
    "def test(_add_moeny_label, fund_history, template_fund_history, clever=1):\n",
    "    i = 0\n",
    "    money_per = 250\n",
    "    money_total = 0\n",
    "    add_times = 0\n",
    "    money_base = 0\n",
    "    date_generator = filter_weekday()\n",
    "    for day, week in date_generator:\n",
    "        try:\n",
    "            year = day.year\n",
    "\n",
    "            equityReturn = fund_history[fund_history.x == day].equityReturn.values\n",
    "\n",
    "            if not equityReturn:\n",
    "                continue\n",
    "\n",
    "            equityReturn = equityReturn[0]\n",
    "            i += 1\n",
    "    #         if i >= 10:\n",
    "    #             break\n",
    "\n",
    "            money_total = money_total * (1 + float(equityReturn) / 100)\n",
    "\n",
    "            if week == _add_moeny_label:\n",
    "\n",
    "                if clever:\n",
    "                    money_ratio,ratio = find_template_fund_signal(template_fund_info, day)\n",
    "#                     print(day, ratio, money_ratio)\n",
    "                else:\n",
    "                    money_ratio = 1\n",
    "                money_total += money_per * money_ratio\n",
    "                money_base += money_per * money_ratio\n",
    "                add_times += 1\n",
    "#                 print(day,type(day),  week)\n",
    "#                 print(day, find_template_fund_signal(template_fund_info, day))\n",
    "#                 break\n",
    "\n",
    "            \n",
    "#             if add_times % 52 == 0 and week == _add_moeny:\n",
    "#                 print(str(day),add_times,  week,equityReturn,money_total, money_per*add_times)\n",
    "\n",
    "        except Exception as e:\n",
    "            print(e)\n",
    "            pass\n",
    "    #     break\n",
    "\n",
    "    # year = day.year\n",
    "    # if not year in year2benefit:\n",
    "    #     year2benefit[year] = money_total\n",
    "\n",
    "    money_before = money_base\n",
    "#     print(day, week,equityReturn,money_total, money_before)\n",
    "    print('定投日期: {}; 投入本金: {}; 收益: {:0.2f}; 收益率: {:0.2f}%;'.format(label2weekday.get(_add_moeny_label),\\\n",
    "                                                        money_before,\n",
    "                                                        money_total - money_before,\n",
    "                                                        (money_total - money_before) / money_before*100\n",
    "                                                         ))\n",
    "# print('总盈利 {:0.2f}'.format(money_total - money_before))\n",
    "# print('总盈利收益率 {:0.2f}%'.format((money_total - money_before) / money_before*100) )\n",
    "\n",
    "\n",
    "\n",
    "        "
   ]
  },
  {
   "cell_type": "code",
   "execution_count": 99,
   "metadata": {},
   "outputs": [
    {
     "name": "stderr",
     "output_type": "stream",
     "text": [
      "/Users/zhoubin/anaconda3/lib/python3.6/site-packages/ipykernel_launcher.py:14: DeprecationWarning: The truth value of an empty array is ambiguous. Returning False, but in future this will result in an error. Use `array.size > 0` to check that an array is not empty.\n",
      "  \n"
     ]
    },
    {
     "name": "stdout",
     "output_type": "stream",
     "text": [
      "定投日期: 周一; 投入本金: 86625.0; 收益: 98745.21; 收益率: 113.99%;\n"
     ]
    }
   ],
   "source": [
    "for label in label2weekday:\n",
    "#     print(label)\n",
    "    try:\n",
    "        test(label, fund_info, template_fund_info, 1)\n",
    "#         break\n",
    "    except Exception as e:\n",
    "        print(e)\n",
    "        pass"
   ]
  },
  {
   "cell_type": "code",
   "execution_count": 95,
   "metadata": {},
   "outputs": [],
   "source": [
    "# 定投日期: 周一; 投入本金: 71250; 收益: 76879.03; 收益率: 107.90%;\n",
    "\n",
    "# 定投日期: 周一; 投入本金: 86625.0; 收益: 98745.21; 收益率: 113.99%;"
   ]
  },
  {
   "cell_type": "code",
   "execution_count": 44,
   "metadata": {},
   "outputs": [],
   "source": [
    "# b = d + timedelta(days = -30) #减去一天"
   ]
  },
  {
   "cell_type": "code",
   "execution_count": 51,
   "metadata": {},
   "outputs": [],
   "source": [
    "a = template_fund_info[(template_fund_info.x <= d)][:30]"
   ]
  },
  {
   "cell_type": "code",
   "execution_count": 67,
   "metadata": {},
   "outputs": [],
   "source": [
    "mean_y = np.mean(a.y.values)"
   ]
  },
  {
   "cell_type": "code",
   "execution_count": 72,
   "metadata": {},
   "outputs": [
    {
     "data": {
      "text/plain": [
       "1.218"
      ]
     },
     "execution_count": 72,
     "metadata": {},
     "output_type": "execute_result"
    }
   ],
   "source": [
    "template_fund_info[(template_fund_info.x == d)].y.values[0]#[:30]"
   ]
  },
  {
   "cell_type": "code",
   "execution_count": 57,
   "metadata": {},
   "outputs": [
    {
     "data": {
      "text/plain": [
       "1.0110003669999998"
      ]
     },
     "execution_count": 57,
     "metadata": {},
     "output_type": "execute_result"
    }
   ],
   "source": [
    "1.027 * (1 + float(-1.5579 ) / 100)"
   ]
  },
  {
   "cell_type": "code",
   "execution_count": 35,
   "metadata": {},
   "outputs": [],
   "source": [
    "# 上证50\n",
    "# 定投日期: 周一; 投入本金: 118000; 全部收益: 251834.37; 收益率: 113.42%;\n",
    "# 定投日期: 周二; 投入本金: 121250; 全部收益: 258922.16; 收益率: 113.54%;\n",
    "# 定投日期: 周三; 投入本金: 123000; 全部收益: 262805.52; 收益率: 113.66%;\n",
    "# 定投日期: 周四; 投入本金: 122250; 全部收益: 261353.23; 收益率: 113.79%;\n",
    "# 定投日期: 周五; 投入本金: 120250; 全部收益: 257831.45; 收益率: 114.41%;"
   ]
  },
  {
   "cell_type": "code",
   "execution_count": 59,
   "metadata": {},
   "outputs": [
    {
     "data": {
      "text/plain": [
       "16.28894626777442"
      ]
     },
     "execution_count": 59,
     "metadata": {},
     "output_type": "execute_result"
    }
   ],
   "source": [
    "10 * (1 + 5 / 100) ** 10"
   ]
  }
 ],
 "metadata": {
  "kernelspec": {
   "display_name": "Python 3",
   "language": "python",
   "name": "python3"
  },
  "language_info": {
   "codemirror_mode": {
    "name": "ipython",
    "version": 3
   },
   "file_extension": ".py",
   "mimetype": "text/x-python",
   "name": "python",
   "nbconvert_exporter": "python",
   "pygments_lexer": "ipython3",
   "version": "3.6.4"
  }
 },
 "nbformat": 4,
 "nbformat_minor": 2
}
