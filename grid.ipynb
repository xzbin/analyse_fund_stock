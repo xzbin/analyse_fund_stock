{
 "cells": [
  {
   "cell_type": "code",
   "execution_count": null,
   "metadata": {},
   "outputs": [],
   "source": []
  },
  {
   "cell_type": "markdown",
   "metadata": {},
   "source": [
    "Etf 拯救世界\n",
    "\n",
    "网格策略"
   ]
  },
  {
   "cell_type": "code",
   "execution_count": 1,
   "metadata": {},
   "outputs": [],
   "source": [
    "import akshare as ak"
   ]
  },
  {
   "cell_type": "code",
   "execution_count": 4,
   "metadata": {},
   "outputs": [],
   "source": [
    "import datetime"
   ]
  },
  {
   "cell_type": "code",
   "execution_count": 2,
   "metadata": {},
   "outputs": [],
   "source": [
    "\n",
    "\n",
    "# 沪深300 6%\n",
    "# fund_codes = '110020'\n",
    "\n",
    "# 上证50\n",
    "fund_codes = '110003'\n",
    "\n"
   ]
  },
  {
   "cell_type": "code",
   "execution_count": 3,
   "metadata": {},
   "outputs": [
    {
     "name": "stdout",
     "output_type": "stream",
     "text": [
      "               x       y equityReturn unitMoney\n",
      "0     2004-03-22  1.0000            0          \n",
      "1     2004-04-30  0.9673        -3.27          \n",
      "2     2004-05-10  0.9541      -1.3646          \n",
      "3     2004-05-11  0.9564       0.2411          \n",
      "4     2004-05-12  0.9668       1.0874          \n",
      "...          ...     ...          ...       ...\n",
      "4051  2020-11-30  2.3605        -0.84          \n",
      "4052  2020-12-01  2.4147          2.3          \n",
      "4053  2020-12-02  2.4136        -0.05          \n",
      "4054  2020-12-03  2.4155         0.08          \n",
      "4055  2020-12-04  2.4335         0.75          \n",
      "\n",
      "[4056 rows x 4 columns]\n"
     ]
    }
   ],
   "source": [
    "fund_history = ak.fund_em_open_fund_info(fund_codes)\n",
    "print(fund_history)"
   ]
  },
  {
   "cell_type": "code",
   "execution_count": 5,
   "metadata": {},
   "outputs": [
    {
     "data": {
      "text/html": [
       "<div>\n",
       "<style scoped>\n",
       "    .dataframe tbody tr th:only-of-type {\n",
       "        vertical-align: middle;\n",
       "    }\n",
       "\n",
       "    .dataframe tbody tr th {\n",
       "        vertical-align: top;\n",
       "    }\n",
       "\n",
       "    .dataframe thead th {\n",
       "        text-align: right;\n",
       "    }\n",
       "</style>\n",
       "<table border=\"1\" class=\"dataframe\">\n",
       "  <thead>\n",
       "    <tr style=\"text-align: right;\">\n",
       "      <th></th>\n",
       "      <th>x</th>\n",
       "      <th>y</th>\n",
       "      <th>equityReturn</th>\n",
       "      <th>unitMoney</th>\n",
       "    </tr>\n",
       "  </thead>\n",
       "  <tbody>\n",
       "    <tr>\n",
       "      <th>1391</th>\n",
       "      <td>2010-01-04</td>\n",
       "      <td>0.9235</td>\n",
       "      <td>-1.4408</td>\n",
       "      <td></td>\n",
       "    </tr>\n",
       "  </tbody>\n",
       "</table>\n",
       "</div>"
      ],
      "text/plain": [
       "               x       y equityReturn unitMoney\n",
       "1391  2010-01-04  0.9235      -1.4408          "
      ]
     },
     "execution_count": 5,
     "metadata": {},
     "output_type": "execute_result"
    }
   ],
   "source": [
    "fund_history[fund_history.x == datetime.date(2010, 1, 4)]"
   ]
  }
 ],
 "metadata": {
  "kernelspec": {
   "display_name": "Python 3",
   "language": "python",
   "name": "python3"
  },
  "language_info": {
   "codemirror_mode": {
    "name": "ipython",
    "version": 3
   },
   "file_extension": ".py",
   "mimetype": "text/x-python",
   "name": "python",
   "nbconvert_exporter": "python",
   "pygments_lexer": "ipython3",
   "version": "3.6.4"
  }
 },
 "nbformat": 4,
 "nbformat_minor": 2
}
