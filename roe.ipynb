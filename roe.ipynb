{
 "cells": [
  {
   "cell_type": "code",
   "execution_count": null,
   "metadata": {},
   "outputs": [],
   "source": []
  },
  {
   "cell_type": "code",
   "execution_count": 6,
   "metadata": {},
   "outputs": [],
   "source": [
    "import akshare as ak"
   ]
  },
  {
   "cell_type": "code",
   "execution_count": 7,
   "metadata": {},
   "outputs": [],
   "source": [
    "fund_code = \"hk01093\""
   ]
  },
  {
   "cell_type": "code",
   "execution_count": 8,
   "metadata": {},
   "outputs": [],
   "source": [
    "stock_hk_eniu_indicator_df = ak.stock_hk_eniu_indicator(symbol=fund_code, indicator=\"市净率\")\n",
    "# stock_hk_eniu_indicator_df"
   ]
  },
  {
   "cell_type": "code",
   "execution_count": 9,
   "metadata": {},
   "outputs": [],
   "source": [
    "# 市盈率 https://www.akshare.xyz/data/stock/stock.html#id214\n",
    "# ak.stock_a_pe(\"000300.XSHG\")"
   ]
  },
  {
   "cell_type": "code",
   "execution_count": 10,
   "metadata": {},
   "outputs": [
    {
     "name": "stdout",
     "output_type": "stream",
     "text": [
      "   type        item    number\n",
      "0    总貌      上市公司/家      1989\n",
      "1    总貌   总股本/亿股（份）  45495.27\n",
      "2    总貌      总市值/亿元  499886.5\n",
      "3    总貌     平均市盈率/倍     17.47\n",
      "0    总貌      上市股票/只      2031\n",
      "..  ...         ...       ...\n",
      "2   科创板      总市值/亿元  48413.34\n",
      "3   科创板     平均市盈率/倍     68.27\n",
      "0   科创板      上市股票/只       341\n",
      "1   科创板  流通股本/亿股（份）    373.16\n",
      "2   科创板     流通市值/亿元  18885.47\n",
      "\n",
      "[21 rows x 3 columns]\n"
     ]
    }
   ],
   "source": [
    "stock_sse_summary_df = ak.stock_sse_summary()\n",
    "print(stock_sse_summary_df)"
   ]
  },
  {
   "cell_type": "code",
   "execution_count": 11,
   "metadata": {},
   "outputs": [
    {
     "data": {
      "text/html": [
       "<div>\n",
       "<style scoped>\n",
       "    .dataframe tbody tr th:only-of-type {\n",
       "        vertical-align: middle;\n",
       "    }\n",
       "\n",
       "    .dataframe tbody tr th {\n",
       "        vertical-align: top;\n",
       "    }\n",
       "\n",
       "    .dataframe thead th {\n",
       "        text-align: right;\n",
       "    }\n",
       "</style>\n",
       "<table border=\"1\" class=\"dataframe\">\n",
       "  <thead>\n",
       "    <tr style=\"text-align: right;\">\n",
       "      <th></th>\n",
       "      <th>品种代码</th>\n",
       "      <th>品种名称</th>\n",
       "      <th>纳入日期</th>\n",
       "    </tr>\n",
       "  </thead>\n",
       "  <tbody>\n",
       "    <tr>\n",
       "      <th>0</th>\n",
       "      <td>601799</td>\n",
       "      <td>星宇股份</td>\n",
       "      <td>2021-06-15</td>\n",
       "    </tr>\n",
       "    <tr>\n",
       "      <th>1</th>\n",
       "      <td>603806</td>\n",
       "      <td>福斯特</td>\n",
       "      <td>2021-06-15</td>\n",
       "    </tr>\n",
       "    <tr>\n",
       "      <th>2</th>\n",
       "      <td>600132</td>\n",
       "      <td>重庆啤酒</td>\n",
       "      <td>2021-06-15</td>\n",
       "    </tr>\n",
       "    <tr>\n",
       "      <th>3</th>\n",
       "      <td>000800</td>\n",
       "      <td>一汽解放</td>\n",
       "      <td>2021-06-15</td>\n",
       "    </tr>\n",
       "    <tr>\n",
       "      <th>4</th>\n",
       "      <td>600521</td>\n",
       "      <td>华海药业</td>\n",
       "      <td>2021-06-15</td>\n",
       "    </tr>\n",
       "    <tr>\n",
       "      <th>...</th>\n",
       "      <td>...</td>\n",
       "      <td>...</td>\n",
       "      <td>...</td>\n",
       "    </tr>\n",
       "    <tr>\n",
       "      <th>295</th>\n",
       "      <td>000157</td>\n",
       "      <td>中联重科</td>\n",
       "      <td>2005-04-08</td>\n",
       "    </tr>\n",
       "    <tr>\n",
       "      <th>296</th>\n",
       "      <td>000069</td>\n",
       "      <td>华侨城A</td>\n",
       "      <td>2005-04-08</td>\n",
       "    </tr>\n",
       "    <tr>\n",
       "      <th>297</th>\n",
       "      <td>000063</td>\n",
       "      <td>中兴通讯</td>\n",
       "      <td>2005-04-08</td>\n",
       "    </tr>\n",
       "    <tr>\n",
       "      <th>298</th>\n",
       "      <td>000001</td>\n",
       "      <td>深发展A</td>\n",
       "      <td>2005-04-08</td>\n",
       "    </tr>\n",
       "    <tr>\n",
       "      <th>299</th>\n",
       "      <td>000002</td>\n",
       "      <td>万科A</td>\n",
       "      <td>2005-04-08</td>\n",
       "    </tr>\n",
       "  </tbody>\n",
       "</table>\n",
       "<p>300 rows × 3 columns</p>\n",
       "</div>"
      ],
      "text/plain": [
       "       品种代码  品种名称        纳入日期\n",
       "0    601799  星宇股份  2021-06-15\n",
       "1    603806   福斯特  2021-06-15\n",
       "2    600132  重庆啤酒  2021-06-15\n",
       "3    000800  一汽解放  2021-06-15\n",
       "4    600521  华海药业  2021-06-15\n",
       "..      ...   ...         ...\n",
       "295  000157  中联重科  2005-04-08\n",
       "296  000069  华侨城A  2005-04-08\n",
       "297  000063  中兴通讯  2005-04-08\n",
       "298  000001  深发展A  2005-04-08\n",
       "299  000002   万科A  2005-04-08\n",
       "\n",
       "[300 rows x 3 columns]"
      ]
     },
     "execution_count": 11,
     "metadata": {},
     "output_type": "execute_result"
    }
   ],
   "source": [
    "# stock_sse_summary_df.values\n",
    "ak.index_stock_cons(index=\"000300\")"
   ]
  },
  {
   "cell_type": "code",
   "execution_count": 12,
   "metadata": {},
   "outputs": [
    {
     "name": "stdout",
     "output_type": "stream",
     "text": [
      "  trade_date      pe  pe_ttm      pb      ps  ps_ttm  dv_ratio  dv_ttm  \\\n",
      "0 2021-09-30  5.9673  6.1849  1.1166  0.5911  0.5632    4.7706  5.8658   \n",
      "1 2021-09-29  5.9281  6.1443  1.1093  0.5872  0.5595    4.8021  5.9046   \n",
      "2 2021-09-28  5.9029  6.1182  1.1046  0.5847  0.5571    4.8226  5.9298   \n",
      "3 2021-09-27  5.5473  5.7496  1.0380  0.5495  0.5236    5.1318  6.3099   \n",
      "4 2021-09-24  5.6901  5.8976  1.0647  0.5636  0.5370    5.0030  6.1516   \n",
      "5 2021-09-23  5.7545  5.9643  1.0768  0.5700  0.5431    4.9470  6.0827   \n",
      "6 2021-09-22  5.6229  5.8279  1.0522  0.5570  0.5307    5.0628  6.2251   \n",
      "7 2021-09-17  5.3401  5.5348  0.9992  0.5290  0.5040    5.3274  6.5505   \n",
      "8 2021-09-16  5.3261  5.5203  0.9966  0.5276  0.5027    5.3415  6.5677   \n",
      "9 2021-09-15  5.4829  5.6828  1.0260  0.5431  0.5175    5.1887  6.3799   \n",
      "\n",
      "       total_mv  \n",
      "0  2.477369e+07  \n",
      "1  2.461094e+07  \n",
      "2  2.450631e+07  \n",
      "3  2.302988e+07  \n",
      "4  2.362278e+07  \n",
      "5  2.389016e+07  \n",
      "6  2.334377e+07  \n",
      "7  2.216961e+07  \n",
      "8  2.211148e+07  \n",
      "9  2.276250e+07  \n"
     ]
    }
   ],
   "source": [
    "# ak.stock_a_pe(\"601799.XSHG\")\n",
    "# stock_a_pe_df = ak.stock_a_pe(market=\"601799.XSHG\")\n",
    "fund = \"000002\"\n",
    "# A 股个股指标\n",
    "stock_a_indicator_df = ak.stock_a_lg_indicator(stock=fund)\n",
    "print(stock_a_indicator_df[:10])"
   ]
  },
  {
   "cell_type": "code",
   "execution_count": 13,
   "metadata": {},
   "outputs": [],
   "source": [
    "# import akshare as ak\n",
    "# a = ak.stock_board_industry_cons_ths(symbol=\"半导体及元件\")\n",
    "# print(a)"
   ]
  },
  {
   "cell_type": "code",
   "execution_count": 14,
   "metadata": {},
   "outputs": [
    {
     "name": "stderr",
     "output_type": "stream",
     "text": [
      "100%|██████████| 22/22 [00:06<00:00,  3.49it/s]"
     ]
    },
    {
     "name": "stdout",
     "output_type": "stream",
     "text": [
      "           摊薄每股收益(元) 加权每股收益(元) 每股收益_调整后(元) 扣除非经常性损益后的每股收益(元) 每股净资产_调整前(元)  \\\n",
      "2021-06-30   -0.1686     -0.17       -0.17             -0.18       7.8363   \n",
      "2021-03-31   -0.0645     -0.07       -0.07                --       7.9868   \n",
      "2020-12-31    -0.098     -0.12       -0.12             -0.28       8.2238   \n",
      "2020-09-30    -0.138     -0.14       -0.14                --       7.8417   \n",
      "2020-06-30   -0.0816     -0.08       -0.08             -0.16       8.0414   \n",
      "...              ...       ...         ...               ...          ...   \n",
      "2003-03-31      0.12        --          --                 0           --   \n",
      "2002-12-31      0.48        --          --              0.37           --   \n",
      "2002-06-30      0.23        --          --                 0           --   \n",
      "2001-12-31      0.49        --          --              0.33           --   \n",
      "2000-12-31      0.33        --          --              0.34           --   \n",
      "\n",
      "           每股净资产_调整后(元) 每股经营性现金流(元) 每股资本公积金(元) 每股未分配利润(元) 调整后的每股净资产(元)  ...  \\\n",
      "2021-06-30       7.7462      0.1472     4.1969      2.155           --  ...   \n",
      "2021-03-31       7.9005      0.0726     4.1969     2.3052           --  ...   \n",
      "2020-12-31       8.1384     -0.0146     4.1969     2.5443           --  ...   \n",
      "2020-09-30        7.746      0.2167     3.4033      2.887           --  ...   \n",
      "2020-06-30       7.9527      0.1829     3.4033     3.0951           --  ...   \n",
      "...                 ...         ...        ...        ...          ...  ...   \n",
      "2003-03-31         2.12          --         --         --         2.09  ...   \n",
      "2002-12-31            2          --         --         --            0  ...   \n",
      "2002-06-30            0          --         --         --            0  ...   \n",
      "2001-12-31         1.76          --         --         --           --  ...   \n",
      "2000-12-31          1.5          --         --         --           --  ...   \n",
      "\n",
      "           2-3年以内应收帐款(元) 3年以内应收帐款(元) 1年以内预付货款(元) 1-2年以内预付货款(元) 2-3年以内预付货款(元)  \\\n",
      "2021-06-30   13798701.98          --          --     186747.45            --   \n",
      "2021-03-31            --          --          --            --            --   \n",
      "2020-12-31   11801059.92          --          --          2487            --   \n",
      "2020-09-30            --          --          --            --            --   \n",
      "2020-06-30     258748.72          --          --     130019.01            --   \n",
      "...                  ...         ...         ...           ...           ...   \n",
      "2003-03-31            --          --          --            --            --   \n",
      "2002-12-31    3129624.94          --          --            --            --   \n",
      "2002-06-30            --          --          --            --            --   \n",
      "2001-12-31            --          --          --            --            --   \n",
      "2000-12-31            --          --          --            --            --   \n",
      "\n",
      "           3年以内预付货款(元) 1年以内其它应收款(元) 1-2年以内其它应收款(元) 2-3年以内其它应收款(元) 3年以内其它应收款(元)  \n",
      "2021-06-30          --           --     4506318.27     3471186.42           --  \n",
      "2021-03-31          --           --             --             --           --  \n",
      "2020-12-31          --           --     6610781.07     1495234.99           --  \n",
      "2020-09-30          --           --             --             --           --  \n",
      "2020-06-30          --           --     3151748.26        1189862           --  \n",
      "...                ...          ...            ...            ...          ...  \n",
      "2003-03-31          --           --             --             --           --  \n",
      "2002-12-31          --           --     4970111.83     1570549.33           --  \n",
      "2002-06-30          --           --             --             --           --  \n",
      "2001-12-31          --           --             --             --           --  \n",
      "2000-12-31          --           --             --             --           --  \n",
      "\n",
      "[78 rows x 85 columns]\n"
     ]
    },
    {
     "name": "stderr",
     "output_type": "stream",
     "text": [
      "\n"
     ]
    }
   ],
   "source": [
    "stock_financial_analysis_indicator_df = ak.stock_financial_analysis_indicator(stock=\"600004\")\n",
    "print(stock_financial_analysis_indicator_df)"
   ]
  },
  {
   "cell_type": "code",
   "execution_count": 18,
   "metadata": {},
   "outputs": [],
   "source": [
    "new_cols = [col for col in stock_financial_analysis_indicator_df.columns if \"每股净资产\" in col]"
   ]
  },
  {
   "cell_type": "code",
   "execution_count": 19,
   "metadata": {},
   "outputs": [
    {
     "data": {
      "text/html": [
       "<div>\n",
       "<style scoped>\n",
       "    .dataframe tbody tr th:only-of-type {\n",
       "        vertical-align: middle;\n",
       "    }\n",
       "\n",
       "    .dataframe tbody tr th {\n",
       "        vertical-align: top;\n",
       "    }\n",
       "\n",
       "    .dataframe thead th {\n",
       "        text-align: right;\n",
       "    }\n",
       "</style>\n",
       "<table border=\"1\" class=\"dataframe\">\n",
       "  <thead>\n",
       "    <tr style=\"text-align: right;\">\n",
       "      <th></th>\n",
       "      <th>每股净资产_调整前(元)</th>\n",
       "      <th>每股净资产_调整后(元)</th>\n",
       "      <th>调整后的每股净资产(元)</th>\n",
       "    </tr>\n",
       "  </thead>\n",
       "  <tbody>\n",
       "    <tr>\n",
       "      <th>2021-06-30</th>\n",
       "      <td>7.8363</td>\n",
       "      <td>7.7462</td>\n",
       "      <td>--</td>\n",
       "    </tr>\n",
       "    <tr>\n",
       "      <th>2021-03-31</th>\n",
       "      <td>7.9868</td>\n",
       "      <td>7.9005</td>\n",
       "      <td>--</td>\n",
       "    </tr>\n",
       "    <tr>\n",
       "      <th>2020-12-31</th>\n",
       "      <td>8.2238</td>\n",
       "      <td>8.1384</td>\n",
       "      <td>--</td>\n",
       "    </tr>\n",
       "    <tr>\n",
       "      <th>2020-09-30</th>\n",
       "      <td>7.8417</td>\n",
       "      <td>7.746</td>\n",
       "      <td>--</td>\n",
       "    </tr>\n",
       "    <tr>\n",
       "      <th>2020-06-30</th>\n",
       "      <td>8.0414</td>\n",
       "      <td>7.9527</td>\n",
       "      <td>--</td>\n",
       "    </tr>\n",
       "    <tr>\n",
       "      <th>...</th>\n",
       "      <td>...</td>\n",
       "      <td>...</td>\n",
       "      <td>...</td>\n",
       "    </tr>\n",
       "    <tr>\n",
       "      <th>2003-03-31</th>\n",
       "      <td>--</td>\n",
       "      <td>2.12</td>\n",
       "      <td>2.09</td>\n",
       "    </tr>\n",
       "    <tr>\n",
       "      <th>2002-12-31</th>\n",
       "      <td>--</td>\n",
       "      <td>2</td>\n",
       "      <td>0</td>\n",
       "    </tr>\n",
       "    <tr>\n",
       "      <th>2002-06-30</th>\n",
       "      <td>--</td>\n",
       "      <td>0</td>\n",
       "      <td>0</td>\n",
       "    </tr>\n",
       "    <tr>\n",
       "      <th>2001-12-31</th>\n",
       "      <td>--</td>\n",
       "      <td>1.76</td>\n",
       "      <td>--</td>\n",
       "    </tr>\n",
       "    <tr>\n",
       "      <th>2000-12-31</th>\n",
       "      <td>--</td>\n",
       "      <td>1.5</td>\n",
       "      <td>--</td>\n",
       "    </tr>\n",
       "  </tbody>\n",
       "</table>\n",
       "<p>78 rows × 3 columns</p>\n",
       "</div>"
      ],
      "text/plain": [
       "           每股净资产_调整前(元) 每股净资产_调整后(元) 调整后的每股净资产(元)\n",
       "2021-06-30       7.8363       7.7462           --\n",
       "2021-03-31       7.9868       7.9005           --\n",
       "2020-12-31       8.2238       8.1384           --\n",
       "2020-09-30       7.8417        7.746           --\n",
       "2020-06-30       8.0414       7.9527           --\n",
       "...                 ...          ...          ...\n",
       "2003-03-31           --         2.12         2.09\n",
       "2002-12-31           --            2            0\n",
       "2002-06-30           --            0            0\n",
       "2001-12-31           --         1.76           --\n",
       "2000-12-31           --          1.5           --\n",
       "\n",
       "[78 rows x 3 columns]"
      ]
     },
     "execution_count": 19,
     "metadata": {},
     "output_type": "execute_result"
    }
   ],
   "source": [
    "stock_financial_analysis_indicator_df[new_cols]"
   ]
  },
  {
   "cell_type": "code",
   "execution_count": null,
   "metadata": {},
   "outputs": [],
   "source": []
  }
 ],
 "metadata": {
  "kernelspec": {
   "display_name": "Python 3",
   "language": "python",
   "name": "python3"
  },
  "language_info": {
   "codemirror_mode": {
    "name": "ipython",
    "version": 3
   },
   "file_extension": ".py",
   "mimetype": "text/x-python",
   "name": "python",
   "nbconvert_exporter": "python",
   "pygments_lexer": "ipython3",
   "version": "3.6.4"
  }
 },
 "nbformat": 4,
 "nbformat_minor": 2
}
