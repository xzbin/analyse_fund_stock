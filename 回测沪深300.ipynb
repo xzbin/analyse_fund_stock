{
 "cells": [
  {
   "cell_type": "code",
   "execution_count": null,
   "metadata": {},
   "outputs": [],
   "source": []
  },
  {
   "cell_type": "code",
   "execution_count": 1,
   "metadata": {},
   "outputs": [],
   "source": [
    "import akshare as ak\n",
    "import datetime"
   ]
  },
  {
   "cell_type": "code",
   "execution_count": 206,
   "metadata": {},
   "outputs": [],
   "source": [
    "import re"
   ]
  },
  {
   "cell_type": "code",
   "execution_count": 198,
   "metadata": {},
   "outputs": [],
   "source": [
    "# 沪深300 13%\n",
    "# fund_codes = '110020'\n",
    "\n",
    "# 上证50\n",
    "fund_codes = '110003'"
   ]
  },
  {
   "cell_type": "code",
   "execution_count": null,
   "metadata": {},
   "outputs": [],
   "source": []
  },
  {
   "cell_type": "code",
   "execution_count": 199,
   "metadata": {},
   "outputs": [],
   "source": [
    "fund_history = ak.fund_em_open_fund_info(fund_codes)"
   ]
  },
  {
   "cell_type": "code",
   "execution_count": 288,
   "metadata": {},
   "outputs": [],
   "source": [
    "\n",
    "def filter_weekday():\n",
    "    start_day = datetime.date(2010, 1, 1)\n",
    "    num_day = 1\n",
    "    end_day = datetime.date(2020, 1, 1)\n",
    "#     end_day = datetime.datetime.now()\n",
    "    while start_day.__le__(end_day):\n",
    "        start_day += datetime.timedelta(1)\n",
    "        yield start_day, start_day.weekday()\n",
    "    "
   ]
  },
  {
   "cell_type": "code",
   "execution_count": null,
   "metadata": {},
   "outputs": [],
   "source": []
  },
  {
   "cell_type": "code",
   "execution_count": null,
   "metadata": {},
   "outputs": [],
   "source": [
    "i = 0\n",
    "money_per = 250\n",
    "money_total = 0\n",
    "add_times = 0\n",
    "date_generator = filter_weekday()\n",
    "for day, week in date_generator:\n",
    "    try:\n",
    "        year = day.year\n",
    "#         if not year in year2benefit and money_total != 0:\n",
    "#             benefit= (money_total - money_per * add_times) / (money_per * add_times)\n",
    "# #             print(year, benefit)\n",
    "#             year2benefit[year] = benefit * 100\n",
    "        \n",
    "            \n",
    "                                                                  \n",
    "        \n",
    "        equityReturn = fund_history[fund_history.x == day].equityReturn.values\n",
    "        if re.search('[0-9]+-01-01', str(day)) and money_total != 0:\n",
    "            benefit= (money_total - money_per * add_times) / (money_per * add_times)\n",
    "# #             print(year, benefit)\n",
    "            year2benefit[year] = benefit * 100\n",
    "#             print(day, money_total, money_per * add_times, benefit)\n",
    "            print('{}  {:.2f}  {:.2f}  {:.3f}'.format(day, money_total, money_per * add_times, (benefit + 1)*100))\n",
    "            \n",
    "        \n",
    "        if not equityReturn:\n",
    "            continue\n",
    "        \n",
    "        equityReturn = equityReturn[0]\n",
    "        i += 1\n",
    "#         if i >= 10:\n",
    "#             break\n",
    "        \n",
    "        if week == 1:\n",
    "            money_total += money_per\n",
    "            add_times += 1\n",
    "            \n",
    "        money_total = money_total * (1 + equityReturn / 100)\n",
    "#         if add_times % 52 == 0 and week == 1:\n",
    "#             print(str(day),add_times,  week,equityReturn,money_total, money_per*add_times)\n",
    "\n",
    "            \n",
    "#         if re.search('[0-9]+-01-01', day):\n",
    "#             print('day', day)\n",
    "#             break\n",
    "    except Exception as e:\n",
    "        print(e)\n",
    "        pass\n",
    "#     break\n",
    "\n",
    "year = day.year\n",
    "if not year in year2benefit:\n",
    "    year2benefit[year] = money_total\n",
    "\n",
    "print(day, week,equityReturn,money_total, money_per*add_times)\n",
    "print((money_total - money_per*add_times) / money_per*add_times)\n",
    "print((money_total - money_per*add_times) / (money_per*add_times) * 100)\n",
    "\n",
    "\n",
    "        "
   ]
  },
  {
   "cell_type": "code",
   "execution_count": null,
   "metadata": {},
   "outputs": [],
   "source": []
  },
  {
   "cell_type": "code",
   "execution_count": null,
   "metadata": {},
   "outputs": [],
   "source": []
  },
  {
   "cell_type": "code",
   "execution_count": 281,
   "metadata": {},
   "outputs": [],
   "source": [
    "\n",
    "# for day, week in date_generator:\n",
    "#     current = fund_history[fund_history.x == day].equityReturn.values\n",
    "#     if not current:\n",
    "#         continue\n",
    "#     print(day)\n",
    "#     print(week)\n",
    "#     print(current)\n",
    "#     break"
   ]
  },
  {
   "cell_type": "code",
   "execution_count": 282,
   "metadata": {},
   "outputs": [
    {
     "name": "stderr",
     "output_type": "stream",
     "text": [
      "/Users/zhoubin/anaconda3/lib/python3.6/site-packages/ipykernel_launcher.py:27: DeprecationWarning: The truth value of an empty array is ambiguous. Returning False, but in future this will result in an error. Use `array.size > 0` to check that an array is not empty.\n"
     ]
    },
    {
     "name": "stdout",
     "output_type": "stream",
     "text": [
      "2009-01-01  8370.14  12750.00  65.648\n",
      "2010-01-01  29810.43  25250.00  118.061\n",
      "2011-01-01  35954.30  37500.00  95.878\n",
      "2012-01-01  39771.94  49500.00  80.347\n",
      "2013-01-01  58333.24  61000.00  95.628\n",
      "2014-01-01  62781.01  72750.00  86.297\n",
      "2015-01-01  120764.49  85250.00  141.659\n",
      "2016-01-01  137776.63  97750.00  140.948\n",
      "2017-01-01  150170.08  110250.00  136.209\n",
      "2018-01-01  226808.09  122250.00  185.528\n",
      "unsupported operand type(s) for *: 'float' and 'decimal.Decimal'\n",
      "2019-01-01  204957.54  134500.00  152.385\n",
      "2020-01-01  323192.89  146500.00  220.609\n",
      "2020-01-02 3 1.0288 326517.900699373 146500\n",
      "421961.95923933026\n",
      "122.87911310537405\n"
     ]
    }
   ],
   "source": [
    "i = 0\n",
    "money_per = 250\n",
    "money_total = 0\n",
    "add_times = 0\n",
    "date_generator = filter_weekday()\n",
    "for day, week in date_generator:\n",
    "    try:\n",
    "        year = day.year\n",
    "#         if not year in year2benefit and money_total != 0:\n",
    "#             benefit= (money_total - money_per * add_times) / (money_per * add_times)\n",
    "# #             print(year, benefit)\n",
    "#             year2benefit[year] = benefit * 100\n",
    "        \n",
    "            \n",
    "                                                                  \n",
    "        \n",
    "        equityReturn = fund_history[fund_history.x == day].equityReturn.values\n",
    "        if re.search('[0-9]+-01-01', str(day)) and money_total != 0:\n",
    "            benefit= (money_total - money_per * add_times) / (money_per * add_times)\n",
    "# #             print(year, benefit)\n",
    "            year2benefit[year] = benefit * 100\n",
    "#             print(day, money_total, money_per * add_times, benefit)\n",
    "            print('{}  {:.2f}  {:.2f}  {:.3f}'.format(day, money_total, money_per * add_times, (benefit + 1)*100))\n",
    "            \n",
    "        \n",
    "        if not equityReturn:\n",
    "            continue\n",
    "        \n",
    "        equityReturn = equityReturn[0]\n",
    "        i += 1\n",
    "#         if i >= 10:\n",
    "#             break\n",
    "        \n",
    "        if week == 1:\n",
    "            money_total += money_per\n",
    "            add_times += 1\n",
    "            \n",
    "        money_total = money_total * (1 + equityReturn / 100)\n",
    "#         if add_times % 52 == 0 and week == 1:\n",
    "#             print(str(day),add_times,  week,equityReturn,money_total, money_per*add_times)\n",
    "\n",
    "            \n",
    "#         if re.search('[0-9]+-01-01', day):\n",
    "#             print('day', day)\n",
    "#             break\n",
    "    except Exception as e:\n",
    "        print(e)\n",
    "        pass\n",
    "#     break\n",
    "\n",
    "year = day.year\n",
    "if not year in year2benefit:\n",
    "    year2benefit[year] = money_total\n",
    "\n",
    "print(day, week,equityReturn,money_total, money_per*add_times)\n",
    "print((money_total - money_per*add_times) / money_per*add_times)\n",
    "print((money_total - money_per*add_times) / (money_per*add_times) * 100)\n",
    "\n",
    "\n",
    "        "
   ]
  },
  {
   "cell_type": "code",
   "execution_count": 265,
   "metadata": {},
   "outputs": [
    {
     "data": {
      "text/plain": [
       "'2.84'"
      ]
     },
     "execution_count": 265,
     "metadata": {},
     "output_type": "execute_result"
    }
   ],
   "source": [
    "'{:.2f}'.format(54 / 19)"
   ]
  },
  {
   "cell_type": "code",
   "execution_count": 287,
   "metadata": {},
   "outputs": [
    {
     "name": "stderr",
     "output_type": "stream",
     "text": [
      "/Users/zhoubin/anaconda3/lib/python3.6/site-packages/ipykernel_launcher.py:15: DeprecationWarning: The truth value of an empty array is ambiguous. Returning False, but in future this will result in an error. Use `array.size > 0` to check that an array is not empty.\n",
      "  from ipykernel import kernelapp as app\n"
     ]
    },
    {
     "name": "stdout",
     "output_type": "stream",
     "text": [
      "2020-01-02 1.0288 20073.63287759561\n"
     ]
    }
   ],
   "source": [
    "# 10年前的1w块到现在能变成多少钱\n",
    "i = 0\n",
    "money_per = 250\n",
    "money_total = 10000\n",
    "add_times = 0\n",
    "year2benefit = {}\n",
    "date_generator = filter_weekday()\n",
    "for day, week in date_generator:\n",
    "    try:\n",
    "        year = day.year\n",
    "\n",
    "        equityReturn = fund_history[fund_history.x == day].equityReturn.values\n",
    "        \n",
    "        \n",
    "        if not equityReturn:\n",
    "            continue\n",
    "        \n",
    "        equityReturn = equityReturn[0]\n",
    "        i += 1\n",
    "            \n",
    "        money_total = money_total * (1 + float(equityReturn) / 100)\n",
    "\n",
    "    except Exception as e:\n",
    "        print(e,equityReturn)\n",
    "        pass\n",
    "#     break\n",
    "\n",
    "\n",
    "\n",
    "print(day,equityReturn,money_total)\n",
    "\n",
    "        "
   ]
  },
  {
   "cell_type": "code",
   "execution_count": 171,
   "metadata": {},
   "outputs": [
    {
     "data": {
      "text/plain": [
       "1.06799982"
      ]
     },
     "execution_count": 171,
     "metadata": {},
     "output_type": "execute_result"
    }
   ],
   "source": [
    "# fund_history[-10:]#[fund_history.x == datetime.date(2010, 1, 14)]\n",
    "1.06 * (1+0.7547 / 100)"
   ]
  },
  {
   "cell_type": "code",
   "execution_count": 104,
   "metadata": {},
   "outputs": [
    {
     "data": {
      "text/plain": [
       "2731    1.19\n",
       "2732   -0.57\n",
       "2733   -1.20\n",
       "2734    0.15\n",
       "2735    1.20\n",
       "2736   -0.36\n",
       "2737    2.02\n",
       "2738    0.01\n",
       "2739   -0.18\n",
       "2740    0.16\n",
       "Name: equityReturn, dtype: float64"
      ]
     },
     "execution_count": 104,
     "metadata": {},
     "output_type": "execute_result"
    }
   ],
   "source": [
    "fund_history.equityReturn[-10:]"
   ]
  },
  {
   "cell_type": "code",
   "execution_count": 196,
   "metadata": {},
   "outputs": [
    {
     "data": {
      "text/html": [
       "<div>\n",
       "<style scoped>\n",
       "    .dataframe tbody tr th:only-of-type {\n",
       "        vertical-align: middle;\n",
       "    }\n",
       "\n",
       "    .dataframe tbody tr th {\n",
       "        vertical-align: top;\n",
       "    }\n",
       "\n",
       "    .dataframe thead th {\n",
       "        text-align: right;\n",
       "    }\n",
       "</style>\n",
       "<table border=\"1\" class=\"dataframe\">\n",
       "  <thead>\n",
       "    <tr style=\"text-align: right;\">\n",
       "      <th></th>\n",
       "      <th>x</th>\n",
       "      <th>y</th>\n",
       "      <th>equityReturn</th>\n",
       "      <th>unitMoney</th>\n",
       "    </tr>\n",
       "  </thead>\n",
       "  <tbody>\n",
       "    <tr>\n",
       "      <th>0</th>\n",
       "      <td>2009-08-26</td>\n",
       "      <td>1</td>\n",
       "      <td>0.0000</td>\n",
       "      <td></td>\n",
       "    </tr>\n",
       "    <tr>\n",
       "      <th>1</th>\n",
       "      <td>2009-08-28</td>\n",
       "      <td>0.998</td>\n",
       "      <td>-0.2000</td>\n",
       "      <td></td>\n",
       "    </tr>\n",
       "    <tr>\n",
       "      <th>2</th>\n",
       "      <td>2009-09-04</td>\n",
       "      <td>1.005</td>\n",
       "      <td>0.7014</td>\n",
       "      <td></td>\n",
       "    </tr>\n",
       "    <tr>\n",
       "      <th>3</th>\n",
       "      <td>2009-09-11</td>\n",
       "      <td>1.016</td>\n",
       "      <td>1.0945</td>\n",
       "      <td></td>\n",
       "    </tr>\n",
       "    <tr>\n",
       "      <th>4</th>\n",
       "      <td>2009-09-15</td>\n",
       "      <td>1.019</td>\n",
       "      <td>0.2953</td>\n",
       "      <td></td>\n",
       "    </tr>\n",
       "    <tr>\n",
       "      <th>...</th>\n",
       "      <td>...</td>\n",
       "      <td>...</td>\n",
       "      <td>...</td>\n",
       "      <td>...</td>\n",
       "    </tr>\n",
       "    <tr>\n",
       "      <th>2736</th>\n",
       "      <td>2020-11-30</td>\n",
       "      <td>1.7619</td>\n",
       "      <td>-0.3600</td>\n",
       "      <td></td>\n",
       "    </tr>\n",
       "    <tr>\n",
       "      <th>2737</th>\n",
       "      <td>2020-12-01</td>\n",
       "      <td>1.7975</td>\n",
       "      <td>2.0200</td>\n",
       "      <td></td>\n",
       "    </tr>\n",
       "    <tr>\n",
       "      <th>2738</th>\n",
       "      <td>2020-12-02</td>\n",
       "      <td>1.7977</td>\n",
       "      <td>0.0100</td>\n",
       "      <td></td>\n",
       "    </tr>\n",
       "    <tr>\n",
       "      <th>2739</th>\n",
       "      <td>2020-12-03</td>\n",
       "      <td>1.7945</td>\n",
       "      <td>-0.1800</td>\n",
       "      <td></td>\n",
       "    </tr>\n",
       "    <tr>\n",
       "      <th>2740</th>\n",
       "      <td>2020-12-04</td>\n",
       "      <td>1.7974</td>\n",
       "      <td>0.1600</td>\n",
       "      <td></td>\n",
       "    </tr>\n",
       "  </tbody>\n",
       "</table>\n",
       "<p>2741 rows × 4 columns</p>\n",
       "</div>"
      ],
      "text/plain": [
       "               x       y  equityReturn unitMoney\n",
       "0     2009-08-26       1        0.0000          \n",
       "1     2009-08-28   0.998       -0.2000          \n",
       "2     2009-09-04   1.005        0.7014          \n",
       "3     2009-09-11   1.016        1.0945          \n",
       "4     2009-09-15   1.019        0.2953          \n",
       "...          ...     ...           ...       ...\n",
       "2736  2020-11-30  1.7619       -0.3600          \n",
       "2737  2020-12-01  1.7975        2.0200          \n",
       "2738  2020-12-02  1.7977        0.0100          \n",
       "2739  2020-12-03  1.7945       -0.1800          \n",
       "2740  2020-12-04  1.7974        0.1600          \n",
       "\n",
       "[2741 rows x 4 columns]"
      ]
     },
     "execution_count": 196,
     "metadata": {},
     "output_type": "execute_result"
    }
   ],
   "source": [
    "fund_history"
   ]
  }
 ],
 "metadata": {
  "kernelspec": {
   "display_name": "Python 3",
   "language": "python",
   "name": "python3"
  },
  "language_info": {
   "codemirror_mode": {
    "name": "ipython",
    "version": 3
   },
   "file_extension": ".py",
   "mimetype": "text/x-python",
   "name": "python",
   "nbconvert_exporter": "python",
   "pygments_lexer": "ipython3",
   "version": "3.6.4"
  }
 },
 "nbformat": 4,
 "nbformat_minor": 2
}
