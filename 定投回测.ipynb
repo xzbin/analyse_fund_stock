{
 "cells": [
  {
   "cell_type": "code",
   "execution_count": null,
   "metadata": {},
   "outputs": [],
   "source": []
  },
  {
   "cell_type": "code",
   "execution_count": 3,
   "metadata": {},
   "outputs": [],
   "source": [
    "import akshare as ak\n",
    "import datetime"
   ]
  },
  {
   "cell_type": "code",
   "execution_count": 50,
   "metadata": {},
   "outputs": [],
   "source": [
    "# 沪深300 13%\n",
    "# fund_code = '110020'\n",
    "\n",
    "# 上证50\n",
    "fund_code = '110003'"
   ]
  },
  {
   "cell_type": "code",
   "execution_count": 51,
   "metadata": {},
   "outputs": [],
   "source": [
    "fund_history = ak.fund_em_open_fund_info(fund_code)"
   ]
  },
  {
   "cell_type": "code",
   "execution_count": 52,
   "metadata": {},
   "outputs": [],
   "source": [
    "weekday2label = {\n",
    "    '周一':0,\n",
    "    '周二':1,\n",
    "    '周三':2,\n",
    "    '周四':3,\n",
    "    '周五':4,\n",
    "    '周六':5,\n",
    "    '周日':6,\n",
    "    \n",
    "}\n",
    "label2weekday = {day:label for label, day in weekday2label.items()}\n",
    "_add_moeny = 4"
   ]
  },
  {
   "cell_type": "code",
   "execution_count": 53,
   "metadata": {},
   "outputs": [],
   "source": [
    "\n",
    "def filter_weekday():\n",
    "    start_day = datetime.date(2010, 1, 1)\n",
    "    num_day = 1\n",
    "#     end_day = datetime.date(2020, 1, 1)\n",
    "    end_day = datetime.datetime.now()\n",
    "    while start_day.__le__(end_day):\n",
    "        start_day += datetime.timedelta(1)\n",
    "        yield start_day, start_day.weekday()\n",
    "    "
   ]
  },
  {
   "cell_type": "code",
   "execution_count": 54,
   "metadata": {},
   "outputs": [],
   "source": [
    "def test(_add_moeny_label):\n",
    "    i = 0\n",
    "    money_per = 250\n",
    "    money_total = 0\n",
    "    add_times = 0\n",
    "    date_generator = filter_weekday()\n",
    "    for day, week in date_generator:\n",
    "        try:\n",
    "            year = day.year\n",
    "\n",
    "            equityReturn = fund_history[fund_history.x == day].equityReturn.values\n",
    "\n",
    "            if not equityReturn:\n",
    "                continue\n",
    "\n",
    "            equityReturn = equityReturn[0]\n",
    "            i += 1\n",
    "    #         if i >= 10:\n",
    "    #             break\n",
    "\n",
    "            if week == _add_moeny_label:\n",
    "                money_total += money_per\n",
    "                add_times += 1\n",
    "\n",
    "            money_total = money_total * (1 + float(equityReturn) / 100)\n",
    "#             if add_times % 52 == 0 and week == _add_moeny:\n",
    "#                 print(str(day),add_times,  week,equityReturn,money_total, money_per*add_times)\n",
    "\n",
    "        except Exception as e:\n",
    "            print(e)\n",
    "            pass\n",
    "    #     break\n",
    "\n",
    "    # year = day.year\n",
    "    # if not year in year2benefit:\n",
    "    #     year2benefit[year] = money_total\n",
    "\n",
    "    money_before = money_per*add_times\n",
    "#     print(day, week,equityReturn,money_total, money_before)\n",
    "    print('定投日期: {}; 投入本金: {}; 收益: {:0.2f}; 收益率: {:0.2f}%;'.format(label2weekday.get(_add_moeny_label),\\\n",
    "                                                        money_before,\n",
    "                                                        money_total - money_before,\n",
    "                                                        (money_total - money_before) / money_before*100\n",
    "                                                         ))\n",
    "# print('总盈利 {:0.2f}'.format(money_total - money_before))\n",
    "# print('总盈利收益率 {:0.2f}%'.format((money_total - money_before) / money_before*100) )\n",
    "\n",
    "\n",
    "\n",
    "        "
   ]
  },
  {
   "cell_type": "code",
   "execution_count": 55,
   "metadata": {},
   "outputs": [
    {
     "name": "stderr",
     "output_type": "stream",
     "text": [
      "/Users/zhoubin/anaconda3/lib/python3.6/site-packages/ipykernel_launcher.py:13: DeprecationWarning: The truth value of an empty array is ambiguous. Returning False, but in future this will result in an error. Use `array.size > 0` to check that an array is not empty.\n",
      "  del sys.path[0]\n"
     ]
    },
    {
     "name": "stdout",
     "output_type": "stream",
     "text": [
      "定投日期: 周一; 投入本金: 129000; 收益: 220097.08; 收益率: 170.62%;\n",
      "定投日期: 周二; 投入本金: 132500; 收益: 226392.56; 收益率: 170.86%;\n",
      "定投日期: 周三; 投入本金: 134500; 收益: 229823.34; 收益率: 170.87%;\n",
      "定投日期: 周四; 投入本金: 133250; 收益: 228542.58; 收益率: 171.51%;\n",
      "定投日期: 周五; 投入本金: 131250; 收益: 225785.87; 收益率: 172.03%;\n",
      "定投日期: 周六; 投入本金: 750; 收益: 1763.99; 收益率: 235.20%;\n",
      "定投日期: 周日; 投入本金: 500; 收益: 1525.57; 收益率: 305.11%;\n"
     ]
    }
   ],
   "source": [
    "for label in label2weekday:\n",
    "#     print(label)\n",
    "    try:\n",
    "        test(label)\n",
    "    except:\n",
    "        pass"
   ]
  },
  {
   "cell_type": "code",
   "execution_count": 35,
   "metadata": {},
   "outputs": [],
   "source": [
    "# 上证50\n",
    "# 定投日期: 周一; 投入本金: 118000; 全部收益: 251834.37; 收益率: 113.42%;\n",
    "# 定投日期: 周二; 投入本金: 121250; 全部收益: 258922.16; 收益率: 113.54%;\n",
    "# 定投日期: 周三; 投入本金: 123000; 全部收益: 262805.52; 收益率: 113.66%;\n",
    "# 定投日期: 周四; 投入本金: 122250; 全部收益: 261353.23; 收益率: 113.79%;\n",
    "# 定投日期: 周五; 投入本金: 120250; 全部收益: 257831.45; 收益率: 114.41%;"
   ]
  },
  {
   "cell_type": "code",
   "execution_count": 59,
   "metadata": {},
   "outputs": [
    {
     "data": {
      "text/plain": [
       "16.28894626777442"
      ]
     },
     "execution_count": 59,
     "metadata": {},
     "output_type": "execute_result"
    }
   ],
   "source": [
    "10 * (1 + 5 / 100) ** 10"
   ]
  }
 ],
 "metadata": {
  "kernelspec": {
   "display_name": "Python 3",
   "language": "python",
   "name": "python3"
  },
  "language_info": {
   "codemirror_mode": {
    "name": "ipython",
    "version": 3
   },
   "file_extension": ".py",
   "mimetype": "text/x-python",
   "name": "python",
   "nbconvert_exporter": "python",
   "pygments_lexer": "ipython3",
   "version": "3.6.4"
  }
 },
 "nbformat": 4,
 "nbformat_minor": 2
}
